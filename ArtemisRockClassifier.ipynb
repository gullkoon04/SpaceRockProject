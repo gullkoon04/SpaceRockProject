{
 "cells": [
  {
   "cell_type": "code",
   "execution_count": 18,
   "metadata": {},
   "outputs": [
    {
     "name": "stdout",
     "output_type": "stream",
     "text": [
      "Artemis Rover Rock Scanner Starting.\n"
     ]
    }
   ],
   "source": [
    "print(\"Artemis Rover Rock Scanner Starting.\")"
   ]
  },
  {
   "cell_type": "code",
   "execution_count": 19,
   "metadata": {},
   "outputs": [],
   "source": [
    "basalt = 0; breccia = 0; highland = 0; regolith = 0\n",
    "rockList = []"
   ]
  },
  {
   "cell_type": "code",
   "execution_count": 20,
   "metadata": {},
   "outputs": [],
   "source": [
    "strPath = \"rocks.txt\"\n",
    "fileObject = open(strPath, \"w\")\n",
    "fileObject.writelines([\"Reading Rocks\\n\",\"basalt\\n\",\"breccia\\n\",\"highland\\n\",\"regolith\\n\",\"highland\\n\",\"breccia\\n\",\"highland\\n\",\"regolith\\n\",\"regolith\\n\",\"basalt\\n\",\"highland\\n\",\"basalt\\n\",\"breccia\\n\",\"breccia\\n\",\"regolith\\n\",\"breccia\\n\",\"highland\\n\",\"highland\\n\",\"breccia\\n\",\"basalt\\n\"])\n",
    "fileObject.close()"
   ]
  },
  {
   "cell_type": "code",
   "execution_count": 21,
   "metadata": {},
   "outputs": [
    {
     "name": "stdout",
     "output_type": "stream",
     "text": [
      "Reading Rocks\n",
      "\n",
      "basalt\n",
      "\n",
      "breccia\n",
      "\n",
      "highland\n",
      "\n",
      "regolith\n",
      "\n",
      "highland\n",
      "\n",
      "breccia\n",
      "\n",
      "highland\n",
      "\n",
      "regolith\n",
      "\n",
      "regolith\n",
      "\n",
      "basalt\n",
      "\n",
      "highland\n",
      "\n",
      "basalt\n",
      "\n",
      "breccia\n",
      "\n",
      "breccia\n",
      "\n",
      "regolith\n",
      "\n",
      "breccia\n",
      "\n",
      "highland\n",
      "\n",
      "highland\n",
      "\n",
      "breccia\n",
      "\n",
      "basalt\n",
      "\n"
     ]
    }
   ],
   "source": [
    "fileObject = open(strPath)\n",
    "line = fileObject.readline()\n",
    "print(line)\n",
    "\n",
    "rockList = fileObject.readlines()\n",
    "fileObject.close()\n",
    "\n",
    "for rock in rockList:\n",
    "    print(rock)\n"
   ]
  },
  {
   "cell_type": "code",
   "execution_count": 22,
   "metadata": {},
   "outputs": [],
   "source": [
    "def CountMoonRocks(rockToID):\n",
    "    global basalt, breccia, highland, regolith\n",
    "    if(\"basalt\" in rockToID):\n",
    "        print(\"Found a basalt.\\n\")\n",
    "        basalt += 1\n",
    "    elif(\"breccia\" in rockToID):\n",
    "        print(\"Found a breccia.\\n\")\n",
    "        breccia += 1\n",
    "    elif(\"highland\" in rockToID):\n",
    "        print(\"Found a highland.\\n\")\n",
    "        highland += 1\n",
    "    else:\n",
    "        print(\"Found a regolith.\\n\")\n",
    "        regolith += 1\n",
    "\n",
    "#TODO Add else if statements for breccia, highland and regolith\n",
    "    return"
   ]
  },
  {
   "cell_type": "code",
   "execution_count": 23,
   "metadata": {},
   "outputs": [
    {
     "name": "stdout",
     "output_type": "stream",
     "text": [
      "Found a basalt.\n",
      "\n",
      "Found a breccia.\n",
      "\n",
      "Found a highland.\n",
      "\n",
      "Found a regolith.\n",
      "\n",
      "Found a highland.\n",
      "\n",
      "Found a breccia.\n",
      "\n",
      "Found a highland.\n",
      "\n",
      "Found a regolith.\n",
      "\n",
      "Found a regolith.\n",
      "\n",
      "Found a basalt.\n",
      "\n",
      "Found a highland.\n",
      "\n",
      "Found a basalt.\n",
      "\n",
      "Found a breccia.\n",
      "\n",
      "Found a breccia.\n",
      "\n",
      "Found a regolith.\n",
      "\n",
      "Found a breccia.\n",
      "\n",
      "Found a highland.\n",
      "\n",
      "Found a highland.\n",
      "\n",
      "Found a breccia.\n",
      "\n",
      "Found a basalt.\n",
      "\n"
     ]
    }
   ],
   "source": [
    "for rock in rockList:\n",
    "    CountMoonRocks(rock)"
   ]
  },
  {
   "cell_type": "code",
   "execution_count": 24,
   "metadata": {},
   "outputs": [
    {
     "name": "stdout",
     "output_type": "stream",
     "text": [
      "Number of Basalt found:  4\n",
      "Number of Breccia found:  6\n",
      "Number of Highland found:  6\n",
      "Number of Regolith found:  4\n",
      "The max number of one type of rock found was: 6\n",
      "The minimum number of one type of rock found was: 4\n"
     ]
    }
   ],
   "source": [
    "print(\"Number of Basalt found: \", basalt)\n",
    "print(\"Number of Breccia found: \", breccia)\n",
    "print(\"Number of Highland found: \", highland)\n",
    "print(\"Number of Regolith found: \", regolith)\n",
    "\n",
    "print(\"The max number of one type of rock found was:\", max(basalt, breccia, highland, regolith))\n",
    "print(\"The minimum number of one type of rock found was:\", min(basalt, breccia, highland, regolith))\n"
   ]
  }
 ],
 "metadata": {
  "kernelspec": {
   "display_name": "Python 3",
   "language": "python",
   "name": "python3"
  },
  "language_info": {
   "codemirror_mode": {
    "name": "ipython",
    "version": 3
   },
   "file_extension": ".py",
   "mimetype": "text/x-python",
   "name": "python",
   "nbconvert_exporter": "python",
   "pygments_lexer": "ipython3",
   "version": "3.12.6"
  }
 },
 "nbformat": 4,
 "nbformat_minor": 2
}
